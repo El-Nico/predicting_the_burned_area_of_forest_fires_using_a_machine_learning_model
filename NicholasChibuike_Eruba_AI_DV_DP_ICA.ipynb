{
  "nbformat": 4,
  "nbformat_minor": 0,
  "metadata": {
    "colab": {
      "name": "NicholasChibuike-Eruba_AI_DV_DP_ICA.ipynb",
      "provenance": [],
      "authorship_tag": "ABX9TyOLhXDFd2Xc2S5T3w0zNv4T",
      "include_colab_link": true
    },
    "kernelspec": {
      "name": "python3",
      "display_name": "Python 3"
    },
    "language_info": {
      "name": "python"
    }
  },
  "cells": [
    {
      "cell_type": "markdown",
      "metadata": {
        "id": "view-in-github",
        "colab_type": "text"
      },
      "source": [
        "<a href=\"https://colab.research.google.com/github/El-Nico/predicting_the_burned_area_of_forest_fires_using_a_machine_learning_model/blob/main/NicholasChibuike_Eruba_AI_DV_DP_ICA.ipynb\" target=\"_parent\"><img src=\"https://colab.research.google.com/assets/colab-badge.svg\" alt=\"Open In Colab\"/></a>"
      ]
    },
    {
      "cell_type": "code",
      "execution_count": null,
      "metadata": {
        "id": "yyqTay_mLfmM"
      },
      "outputs": [],
      "source": [
        ""
      ]
    }
  ]
}